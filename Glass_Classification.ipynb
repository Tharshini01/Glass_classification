{
  "nbformat": 4,
  "nbformat_minor": 0,
  "metadata": {
    "colab": {
      "provenance": []
    },
    "kernelspec": {
      "name": "python3",
      "display_name": "Python 3"
    },
    "language_info": {
      "name": "python"
    }
  },
  "cells": [
    {
      "cell_type": "markdown",
      "source": [
        "\n",
        "This is a Glass Identification Data Set from UCI. It contains 10 attributes including id. \n",
        "The response is glass type(discrete 7 values)\n",
        "\n"
      ],
      "metadata": {
        "id": "yZNOsyi_ZsP2"
      }
    },
    {
      "cell_type": "code",
      "source": [
        "pip install pyspark"
      ],
      "metadata": {
        "colab": {
          "base_uri": "https://localhost:8080/"
        },
        "id": "Yg6JGLr9YSgZ",
        "outputId": "f449e98e-d99a-4685-c79c-70a49cf8c57c"
      },
      "execution_count": null,
      "outputs": [
        {
          "output_type": "stream",
          "name": "stdout",
          "text": [
            "Requirement already satisfied: pyspark in /usr/local/lib/python3.7/dist-packages (3.2.1)\n",
            "Requirement already satisfied: py4j==0.10.9.3 in /usr/local/lib/python3.7/dist-packages (from pyspark) (0.10.9.3)\n"
          ]
        }
      ]
    },
    {
      "cell_type": "code",
      "execution_count": null,
      "metadata": {
        "colab": {
          "base_uri": "https://localhost:8080/"
        },
        "id": "JxUAGXO4W4TT",
        "outputId": "5a485a65-76db-4170-84bc-339682534404"
      },
      "outputs": [
        {
          "output_type": "stream",
          "name": "stdout",
          "text": [
            "[('numpy', '1.21.6'), ('pandas', '1.3.5'), ('pyspark', '3.2.1')]\n"
          ]
        },
        {
          "output_type": "stream",
          "name": "stderr",
          "text": [
            "/usr/local/lib/python3.7/dist-packages/pyspark/sql/context.py:79: FutureWarning: Deprecated in 3.0.0. Use SparkSession.builder.getOrCreate() instead.\n",
            "  FutureWarning\n"
          ]
        }
      ],
      "source": [
        "import numpy as np\n",
        "import pandas as pd\n",
        "import pyspark\n",
        "from pyspark import SparkConf, SparkContext, SQLContext\n",
        "from pyspark.sql import SparkSession\n",
        "from pyspark.sql.functions import udf # @udf(\"integer\") def myfunc(x,y): return x - y\n",
        "from pyspark.sql import functions as F # stddev format_number date_format, dayofyear, when\n",
        "from pyspark.sql.types import StructField, StringType, IntegerType, StructType\n",
        "\n",
        "print([(x.__name__,x.__version__) for x in [np, pd, pyspark]])\n",
        "\n",
        "spark = pyspark.sql.SparkSession.builder.appName('Glass_Classification').getOrCreate()\n",
        "sc = spark.sparkContext\n",
        "sqlContext = SQLContext(sc)\n",
        "sc.setLogLevel(\"INFO\")"
      ]
    },
    {
      "cell_type": "code",
      "source": [
        "df = spark.read.csv('glass.csv',header=True,inferSchema=True)\n",
        "df.show()"
      ],
      "metadata": {
        "colab": {
          "base_uri": "https://localhost:8080/"
        },
        "id": "mzpGnp1eYqVT",
        "outputId": "cdb50751-8602-403b-cdac-69b6a2c491d2"
      },
      "execution_count": null,
      "outputs": [
        {
          "output_type": "stream",
          "name": "stdout",
          "text": [
            "+-------+-----+----+----+-----+----+----+---+----+----+\n",
            "|     RI|   Na|  Mg|  Al|   Si|   K|  Ca| Ba|  Fe|Type|\n",
            "+-------+-----+----+----+-----+----+----+---+----+----+\n",
            "|1.52101|13.64|4.49| 1.1|71.78|0.06|8.75|0.0| 0.0|   1|\n",
            "|1.51761|13.89| 3.6|1.36|72.73|0.48|7.83|0.0| 0.0|   1|\n",
            "|1.51618|13.53|3.55|1.54|72.99|0.39|7.78|0.0| 0.0|   1|\n",
            "|1.51766|13.21|3.69|1.29|72.61|0.57|8.22|0.0| 0.0|   1|\n",
            "|1.51742|13.27|3.62|1.24|73.08|0.55|8.07|0.0| 0.0|   1|\n",
            "|1.51596|12.79|3.61|1.62|72.97|0.64|8.07|0.0|0.26|   1|\n",
            "|1.51743| 13.3| 3.6|1.14|73.09|0.58|8.17|0.0| 0.0|   1|\n",
            "|1.51756|13.15|3.61|1.05|73.24|0.57|8.24|0.0| 0.0|   1|\n",
            "|1.51918|14.04|3.58|1.37|72.08|0.56| 8.3|0.0| 0.0|   1|\n",
            "|1.51755| 13.0| 3.6|1.36|72.99|0.57| 8.4|0.0|0.11|   1|\n",
            "|1.51571|12.72|3.46|1.56| 73.2|0.67|8.09|0.0|0.24|   1|\n",
            "|1.51763| 12.8|3.66|1.27|73.01| 0.6|8.56|0.0| 0.0|   1|\n",
            "|1.51589|12.88|3.43| 1.4|73.28|0.69|8.05|0.0|0.24|   1|\n",
            "|1.51748|12.86|3.56|1.27|73.21|0.54|8.38|0.0|0.17|   1|\n",
            "|1.51763|12.61|3.59|1.31|73.29|0.58| 8.5|0.0| 0.0|   1|\n",
            "|1.51761|12.81|3.54|1.23|73.24|0.58|8.39|0.0| 0.0|   1|\n",
            "|1.51784|12.68|3.67|1.16|73.11|0.61| 8.7|0.0| 0.0|   1|\n",
            "|1.52196|14.36|3.85|0.89|71.36|0.15|9.15|0.0| 0.0|   1|\n",
            "|1.51911| 13.9|3.73|1.18|72.12|0.06|8.89|0.0| 0.0|   1|\n",
            "|1.51735|13.02|3.54|1.69|72.73|0.54|8.44|0.0|0.07|   1|\n",
            "+-------+-----+----+----+-----+----+----+---+----+----+\n",
            "only showing top 20 rows\n",
            "\n"
          ]
        }
      ]
    },
    {
      "cell_type": "code",
      "source": [
        "df.groupBy('Type').count().show()"
      ],
      "metadata": {
        "colab": {
          "base_uri": "https://localhost:8080/"
        },
        "id": "29tGW3W43aZA",
        "outputId": "d84d3757-e407-4a78-b4ae-16ed2344b402"
      },
      "execution_count": null,
      "outputs": [
        {
          "output_type": "stream",
          "name": "stdout",
          "text": [
            "+----+-----+\n",
            "|Type|count|\n",
            "+----+-----+\n",
            "|   1|   70|\n",
            "|   6|    9|\n",
            "|   3|   17|\n",
            "|   5|   13|\n",
            "|   7|   29|\n",
            "|   2|   76|\n",
            "+----+-----+\n",
            "\n"
          ]
        }
      ]
    },
    {
      "cell_type": "code",
      "source": [
        "from pyspark.sql.functions import col, explode, array, lit\n"
      ],
      "metadata": {
        "id": "zziny1l36yae"
      },
      "execution_count": null,
      "outputs": []
    },
    {
      "cell_type": "code",
      "source": [
        "\n",
        "type1_df = df.filter(col(\"Type\") == 1)\n",
        "type2_df = df.filter(col(\"Type\") == 2)\n",
        "type3_df = df.filter(col(\"Type\") == 3)\n",
        "type5_df = df.filter(col(\"Type\") == 5)\n",
        "type6_df = df.filter(col(\"Type\") == 6)\n",
        "type7_df = df.filter(col(\"Type\") == 7)\n",
        "\n"
      ],
      "metadata": {
        "id": "2FdMRrMO46TE"
      },
      "execution_count": null,
      "outputs": []
    },
    {
      "cell_type": "code",
      "source": [
        "ratio1 = int(type2_df.count()/type1_df.count())\n",
        "ratio3 = int(type2_df.count()/type3_df.count())\n",
        "ratio5 = int(type2_df.count()/type5_df.count())\n",
        "ratio6 = int(type2_df.count()/type6_df.count())\n",
        "ratio7 = int(type2_df.count()/type7_df.count())"
      ],
      "metadata": {
        "id": "s-bd5K105202"
      },
      "execution_count": null,
      "outputs": []
    },
    {
      "cell_type": "code",
      "source": [
        "a = range(ratio1)\n",
        "# duplicate the minority rows\n",
        "oversampled_df1 = type1_df.withColumn(\"dummy\", explode(array([lit(x) for x in a]))).drop('dummy')"
      ],
      "metadata": {
        "id": "APTxN5el6fJe"
      },
      "execution_count": null,
      "outputs": []
    },
    {
      "cell_type": "code",
      "source": [
        "a = range(ratio3)\n",
        "# duplicate the minority rows\n",
        "oversampled_df3 = type3_df.withColumn(\"dummy\", explode(array([lit(x) for x in a]))).drop('dummy')"
      ],
      "metadata": {
        "id": "5hAlPAzNnnVp"
      },
      "execution_count": null,
      "outputs": []
    },
    {
      "cell_type": "code",
      "source": [
        "a = range(ratio5)\n",
        "# duplicate the minority rows\n",
        "oversampled_df5 = type5_df.withColumn(\"dummy\", explode(array([lit(x) for x in a]))).drop('dummy')"
      ],
      "metadata": {
        "id": "KK3p0LzmoKe2"
      },
      "execution_count": null,
      "outputs": []
    },
    {
      "cell_type": "code",
      "source": [
        "a = range(ratio6)\n",
        "# duplicate the minority rows\n",
        "oversampled_df6 = type6_df.withColumn(\"dummy\", explode(array([lit(x) for x in a]))).drop('dummy')"
      ],
      "metadata": {
        "id": "7x4CtgYzoRSb"
      },
      "execution_count": null,
      "outputs": []
    },
    {
      "cell_type": "code",
      "source": [
        "a = range(ratio7)\n",
        "# duplicate the minority rows\n",
        "oversampled_df7 = type7_df.withColumn(\"dummy\", explode(array([lit(x) for x in a]))).drop('dummy')"
      ],
      "metadata": {
        "id": "DJ74al_woW0D"
      },
      "execution_count": null,
      "outputs": []
    },
    {
      "cell_type": "code",
      "source": [
        "\n",
        "oversampled_df5.groupBy('Type').count().show()"
      ],
      "metadata": {
        "id": "rez9WlAb62JI",
        "colab": {
          "base_uri": "https://localhost:8080/"
        },
        "outputId": "7744c784-f553-4a2b-ff15-72ba2c01f8bf"
      },
      "execution_count": null,
      "outputs": [
        {
          "output_type": "stream",
          "name": "stdout",
          "text": [
            "+----+-----+\n",
            "|Type|count|\n",
            "+----+-----+\n",
            "|   5|   65|\n",
            "+----+-----+\n",
            "\n"
          ]
        }
      ]
    },
    {
      "cell_type": "code",
      "source": [
        "df = df.unionAll(oversampled_df7)\n",
        "df.groupby('Type').count().show()"
      ],
      "metadata": {
        "colab": {
          "base_uri": "https://localhost:8080/"
        },
        "id": "f9cM0k7Vofex",
        "outputId": "2754167f-d4b7-49f3-8022-95c61836f202"
      },
      "execution_count": null,
      "outputs": [
        {
          "output_type": "stream",
          "name": "stdout",
          "text": [
            "+----+-----+\n",
            "|Type|count|\n",
            "+----+-----+\n",
            "|   1|   70|\n",
            "|   6|   81|\n",
            "|   3|   85|\n",
            "|   5|   78|\n",
            "|   7|   87|\n",
            "|   2|   76|\n",
            "+----+-----+\n",
            "\n"
          ]
        }
      ]
    },
    {
      "cell_type": "code",
      "source": [
        "print(df.count())"
      ],
      "metadata": {
        "colab": {
          "base_uri": "https://localhost:8080/"
        },
        "id": "w1w9XSGbqcj8",
        "outputId": "197f5cc6-6066-46d2-ddf2-37b5a16e97ca"
      },
      "execution_count": null,
      "outputs": [
        {
          "output_type": "stream",
          "name": "stdout",
          "text": [
            "477\n"
          ]
        }
      ]
    },
    {
      "cell_type": "code",
      "source": [
        "df.groupby('Type').count().show()"
      ],
      "metadata": {
        "colab": {
          "base_uri": "https://localhost:8080/"
        },
        "id": "Qlj9Dqslp_p_",
        "outputId": "ca4ce3dd-28a1-4ae1-b779-bd25b30b7490"
      },
      "execution_count": null,
      "outputs": [
        {
          "output_type": "stream",
          "name": "stdout",
          "text": [
            "+----+-----+\n",
            "|Type|count|\n",
            "+----+-----+\n",
            "|   1|   70|\n",
            "|   6|   81|\n",
            "|   3|   85|\n",
            "|   5|   78|\n",
            "|   7|   87|\n",
            "|   2|   76|\n",
            "+----+-----+\n",
            "\n"
          ]
        }
      ]
    },
    {
      "cell_type": "markdown",
      "source": [
        "Imbalanced data"
      ],
      "metadata": {
        "id": "qXK4dLlB3uTv"
      }
    },
    {
      "cell_type": "code",
      "source": [],
      "metadata": {
        "id": "EA9GDXNqp-5p"
      },
      "execution_count": null,
      "outputs": []
    },
    {
      "cell_type": "code",
      "source": [
        "print(df.count())"
      ],
      "metadata": {
        "id": "MGlBu4YkY3QF",
        "outputId": "093e5587-19c2-475b-cbb4-a707c7e43ee4",
        "colab": {
          "base_uri": "https://localhost:8080/"
        }
      },
      "execution_count": null,
      "outputs": [
        {
          "output_type": "stream",
          "name": "stdout",
          "text": [
            "477\n"
          ]
        }
      ]
    },
    {
      "cell_type": "code",
      "source": [
        "from pyspark.sql.functions import col,isnan, when, count\n",
        "df.select([count(when(isnan(c) | col(c).isNull(), c)).alias(c) for c in df.columns]).show()"
      ],
      "metadata": {
        "id": "c7pFcdzNY6bR",
        "outputId": "7ec7a590-463b-4cfc-bc47-12a40d49a905",
        "colab": {
          "base_uri": "https://localhost:8080/"
        }
      },
      "execution_count": null,
      "outputs": [
        {
          "output_type": "stream",
          "name": "stdout",
          "text": [
            "+---+---+---+---+---+---+---+---+---+----+\n",
            "| RI| Na| Mg| Al| Si|  K| Ca| Ba| Fe|Type|\n",
            "+---+---+---+---+---+---+---+---+---+----+\n",
            "|  0|  0|  0|  0|  0|  0|  0|  0|  0|   0|\n",
            "+---+---+---+---+---+---+---+---+---+----+\n",
            "\n"
          ]
        }
      ]
    },
    {
      "cell_type": "code",
      "source": [
        "df.printSchema()"
      ],
      "metadata": {
        "id": "oeUgQCmrZWV1",
        "outputId": "80abaec9-138b-4972-d45e-831d6ce798d8",
        "colab": {
          "base_uri": "https://localhost:8080/"
        }
      },
      "execution_count": null,
      "outputs": [
        {
          "output_type": "stream",
          "name": "stdout",
          "text": [
            "root\n",
            " |-- RI: double (nullable = true)\n",
            " |-- Na: double (nullable = true)\n",
            " |-- Mg: double (nullable = true)\n",
            " |-- Al: double (nullable = true)\n",
            " |-- Si: double (nullable = true)\n",
            " |-- K: double (nullable = true)\n",
            " |-- Ca: double (nullable = true)\n",
            " |-- Ba: double (nullable = true)\n",
            " |-- Fe: double (nullable = true)\n",
            " |-- Type: integer (nullable = true)\n",
            "\n"
          ]
        }
      ]
    },
    {
      "cell_type": "code",
      "source": [
        "df.columns"
      ],
      "metadata": {
        "id": "hNZe270zZbuz",
        "outputId": "a582f206-dcf7-4254-9687-fd22c25768cf",
        "colab": {
          "base_uri": "https://localhost:8080/"
        }
      },
      "execution_count": null,
      "outputs": [
        {
          "output_type": "execute_result",
          "data": {
            "text/plain": [
              "['RI', 'Na', 'Mg', 'Al', 'Si', 'K', 'Ca', 'Ba', 'Fe', 'Type']"
            ]
          },
          "metadata": {},
          "execution_count": 97
        }
      ]
    },
    {
      "cell_type": "code",
      "source": [
        "from pyspark.ml.feature import VectorAssembler"
      ],
      "metadata": {
        "id": "BhXraoVYaShy"
      },
      "execution_count": null,
      "outputs": []
    },
    {
      "cell_type": "code",
      "source": [
        "assembler = VectorAssembler(inputCols = ['RI', 'Na', 'Mg', 'Al', 'Si', 'K', 'Ca', 'Ba', 'Fe'], outputCol = 'features')"
      ],
      "metadata": {
        "id": "pNBOvUOzafX8"
      },
      "execution_count": null,
      "outputs": []
    },
    {
      "cell_type": "markdown",
      "source": [
        "Logistic Regression"
      ],
      "metadata": {
        "id": "U2xrqMJBlS-I"
      }
    },
    {
      "cell_type": "code",
      "source": [
        "from pyspark.ml.classification import LogisticRegression\n",
        "from pyspark.ml import Pipeline\n"
      ],
      "metadata": {
        "id": "mHP94zm4bZGg"
      },
      "execution_count": null,
      "outputs": []
    },
    {
      "cell_type": "code",
      "source": [
        "lr = LogisticRegression(featuresCol='features',labelCol='Type')"
      ],
      "metadata": {
        "id": "B8553jHhbdIo"
      },
      "execution_count": null,
      "outputs": []
    },
    {
      "cell_type": "code",
      "source": [
        "from sklearn.preprocessing import StandardScaler"
      ],
      "metadata": {
        "id": "phy2RSuQrK3b"
      },
      "execution_count": null,
      "outputs": []
    },
    {
      "cell_type": "code",
      "source": [
        "pipeline = Pipeline(stages=[assembler,  lr])"
      ],
      "metadata": {
        "id": "Kf3_FSxDawtm"
      },
      "execution_count": null,
      "outputs": []
    },
    {
      "cell_type": "code",
      "source": [
        "train, test = df.randomSplit([0.7, 0.3],seed=2)"
      ],
      "metadata": {
        "id": "O0ZWe9WObhJ3"
      },
      "execution_count": null,
      "outputs": []
    },
    {
      "cell_type": "code",
      "source": [
        "print(df.count())"
      ],
      "metadata": {
        "colab": {
          "base_uri": "https://localhost:8080/"
        },
        "id": "v-WOblNxboCF",
        "outputId": "602cafcf-9bd1-4ae5-9475-8db17559c4ca"
      },
      "execution_count": null,
      "outputs": [
        {
          "output_type": "stream",
          "name": "stdout",
          "text": [
            "477\n"
          ]
        }
      ]
    },
    {
      "cell_type": "code",
      "source": [
        "test.count()"
      ],
      "metadata": {
        "id": "ScgS5dahb0xl",
        "outputId": "6de61c0e-a502-4c0e-f102-00c51fbeac5b",
        "colab": {
          "base_uri": "https://localhost:8080/"
        }
      },
      "execution_count": null,
      "outputs": [
        {
          "output_type": "execute_result",
          "data": {
            "text/plain": [
              "157"
            ]
          },
          "metadata": {},
          "execution_count": 124
        }
      ]
    },
    {
      "cell_type": "code",
      "source": [
        "lr_model = pipeline.fit(train)"
      ],
      "metadata": {
        "id": "52FkuauZcBFG"
      },
      "execution_count": null,
      "outputs": []
    },
    {
      "cell_type": "code",
      "source": [
        "results = lr_model.transform(test)\n",
        "results.show(5)"
      ],
      "metadata": {
        "colab": {
          "base_uri": "https://localhost:8080/"
        },
        "id": "NPnucCfEcKhP",
        "outputId": "550b7a46-aac9-4f48-80b9-0dee0185b3e0"
      },
      "execution_count": null,
      "outputs": [
        {
          "output_type": "stream",
          "name": "stdout",
          "text": [
            "+-------+-----+----+----+-----+----+----+---+----+----+--------------------+--------------------+--------------------+----------+\n",
            "|     RI|   Na|  Mg|  Al|   Si|   K|  Ca| Ba|  Fe|Type|            features|       rawPrediction|         probability|prediction|\n",
            "+-------+-----+----+----+-----+----+----+---+----+----+--------------------+--------------------+--------------------+----------+\n",
            "|1.51316|13.02| 0.0|3.04|70.48|6.21|6.96|0.0| 0.0|   5|[1.51316,13.02,0....|[-2.7822387363258...|[1.57645880528239...|       5.0|\n",
            "|1.51514|14.01|2.68| 3.5|69.89|1.68|5.87|2.2| 0.0|   5|[1.51514,14.01,2....|[-2.3336190298122...|[8.16593658871527...|       5.0|\n",
            "|1.51569|13.24|3.49|1.47|73.25|0.38|8.03|0.0| 0.0|   2|[1.51569,13.24,3....|[-4.3400557423882...|[5.63099070389085...|       1.0|\n",
            "|1.51574|14.86|3.67|1.74|71.87|0.16|7.36|0.0|0.12|   2|[1.51574,14.86,3....|[-3.9810641786580...|[1.62328709768353...|       6.0|\n",
            "| 1.5159|13.02|3.58|1.51|73.12|0.69|7.96|0.0| 0.0|   2|[1.5159,13.02,3.5...|[-4.3624178692110...|[4.06434438478765...|       1.0|\n",
            "+-------+-----+----+----+-----+----+----+---+----+----+--------------------+--------------------+--------------------+----------+\n",
            "only showing top 5 rows\n",
            "\n"
          ]
        }
      ]
    },
    {
      "cell_type": "code",
      "source": [
        "results.select('Type','prediction').show()"
      ],
      "metadata": {
        "colab": {
          "base_uri": "https://localhost:8080/"
        },
        "id": "nOhS5soQdm5r",
        "outputId": "cb6b5f50-41d2-4254-857d-64f0137a87d4"
      },
      "execution_count": null,
      "outputs": [
        {
          "output_type": "stream",
          "name": "stdout",
          "text": [
            "+----+----------+\n",
            "|Type|prediction|\n",
            "+----+----------+\n",
            "|   5|       5.0|\n",
            "|   5|       5.0|\n",
            "|   1|       3.0|\n",
            "|   2|       3.0|\n",
            "|   1|       2.0|\n",
            "|   2|       6.0|\n",
            "|   2|       3.0|\n",
            "|   2|       3.0|\n",
            "|   3|       3.0|\n",
            "|   7|       7.0|\n",
            "|   7|       7.0|\n",
            "|   7|       7.0|\n",
            "|   2|       2.0|\n",
            "|   2|       2.0|\n",
            "|   2|       2.0|\n",
            "|   2|       1.0|\n",
            "|   7|       5.0|\n",
            "|   2|       3.0|\n",
            "|   2|       2.0|\n",
            "|   2|       2.0|\n",
            "+----+----------+\n",
            "only showing top 20 rows\n",
            "\n"
          ]
        }
      ]
    },
    {
      "cell_type": "markdown",
      "source": [
        "MultiClass Evaluator"
      ],
      "metadata": {
        "id": "yRckPzFelGdd"
      }
    },
    {
      "cell_type": "code",
      "source": [
        "from pyspark.ml.evaluation import MulticlassClassificationEvaluator"
      ],
      "metadata": {
        "id": "jNbYHe2Jczug"
      },
      "execution_count": null,
      "outputs": []
    },
    {
      "cell_type": "code",
      "source": [
        "eval = MulticlassClassificationEvaluator(predictionCol = 'prediction', labelCol = 'Type')"
      ],
      "metadata": {
        "id": "dRlzfufadFXw"
      },
      "execution_count": null,
      "outputs": []
    },
    {
      "cell_type": "code",
      "source": [
        "auc = eval.evaluate(results)\n",
        "auc"
      ],
      "metadata": {
        "colab": {
          "base_uri": "https://localhost:8080/"
        },
        "id": "o_Ky_KK0d7xU",
        "outputId": "3ac83bac-f5af-40f3-9303-e43792eebbc8"
      },
      "execution_count": null,
      "outputs": [
        {
          "output_type": "execute_result",
          "data": {
            "text/plain": [
              "0.8411587801431619"
            ]
          },
          "metadata": {},
          "execution_count": 128
        }
      ]
    },
    {
      "cell_type": "markdown",
      "source": [
        "Decision Tree Classifier"
      ],
      "metadata": {
        "id": "LWoGxiAsm2QO"
      }
    },
    {
      "cell_type": "code",
      "source": [
        "from pyspark.ml.classification import DecisionTreeClassifier"
      ],
      "metadata": {
        "id": "cl2CRH3Kk7EP"
      },
      "execution_count": null,
      "outputs": []
    },
    {
      "cell_type": "code",
      "source": [
        "dt = DecisionTreeClassifier(featuresCol='features',labelCol='Type',maxDepth=8,impurity='entropy',seed=1)"
      ],
      "metadata": {
        "id": "AcF3hJq6lqn4"
      },
      "execution_count": null,
      "outputs": []
    },
    {
      "cell_type": "code",
      "source": [
        "pipeline = Pipeline(stages=[assembler, dt])"
      ],
      "metadata": {
        "id": "W1jR4w9Vlyew"
      },
      "execution_count": null,
      "outputs": []
    },
    {
      "cell_type": "code",
      "source": [
        "dt_model = pipeline.fit(train)"
      ],
      "metadata": {
        "id": "nLXcHC2yl9YV"
      },
      "execution_count": null,
      "outputs": []
    },
    {
      "cell_type": "code",
      "source": [
        "results = dt_model.transform(test)\n",
        "results.show(5)"
      ],
      "metadata": {
        "id": "T7lbqAJamGP6",
        "outputId": "024e53a1-6d55-44b9-a4c5-daaeca149746",
        "colab": {
          "base_uri": "https://localhost:8080/"
        }
      },
      "execution_count": null,
      "outputs": [
        {
          "output_type": "stream",
          "name": "stdout",
          "text": [
            "+-------+-----+----+----+-----+----+----+---+----+----+--------------------+--------------------+--------------------+----------+\n",
            "|     RI|   Na|  Mg|  Al|   Si|   K|  Ca| Ba|  Fe|Type|            features|       rawPrediction|         probability|prediction|\n",
            "+-------+-----+----+----+-----+----+----+---+----+----+--------------------+--------------------+--------------------+----------+\n",
            "|1.51316|13.02| 0.0|3.04|70.48|6.21|6.96|0.0| 0.0|   5|[1.51316,13.02,0....|[0.0,0.0,0.0,0.0,...|[0.0,0.0,0.0,0.0,...|       5.0|\n",
            "|1.51514|14.01|2.68| 3.5|69.89|1.68|5.87|2.2| 0.0|   5|[1.51514,14.01,2....|[0.0,0.0,0.0,0.0,...|[0.0,0.0,0.0,0.0,...|       5.0|\n",
            "|1.51569|13.24|3.49|1.47|73.25|0.38|8.03|0.0| 0.0|   2|[1.51569,13.24,3....|[0.0,0.0,7.0,0.0,...|[0.0,0.0,1.0,0.0,...|       2.0|\n",
            "|1.51574|14.86|3.67|1.74|71.87|0.16|7.36|0.0|0.12|   2|[1.51574,14.86,3....|[0.0,0.0,7.0,0.0,...|[0.0,0.0,1.0,0.0,...|       2.0|\n",
            "| 1.5159|13.02|3.58|1.51|73.12|0.69|7.96|0.0| 0.0|   2|[1.5159,13.02,3.5...|[0.0,0.0,7.0,0.0,...|[0.0,0.0,1.0,0.0,...|       2.0|\n",
            "+-------+-----+----+----+-----+----+----+---+----+----+--------------------+--------------------+--------------------+----------+\n",
            "only showing top 5 rows\n",
            "\n"
          ]
        }
      ]
    },
    {
      "cell_type": "code",
      "source": [
        "results.select('Type','prediction').show()"
      ],
      "metadata": {
        "id": "L2_0VC1KmZkn",
        "outputId": "1f87f888-d3f5-46b9-89d4-1ec81a3ff2b3",
        "colab": {
          "base_uri": "https://localhost:8080/"
        }
      },
      "execution_count": null,
      "outputs": [
        {
          "output_type": "stream",
          "name": "stdout",
          "text": [
            "+----+----------+\n",
            "|Type|prediction|\n",
            "+----+----------+\n",
            "|   5|       5.0|\n",
            "|   5|       7.0|\n",
            "|   2|       2.0|\n",
            "|   2|       2.0|\n",
            "|   2|       2.0|\n",
            "|   1|       2.0|\n",
            "|   2|       3.0|\n",
            "|   3|       3.0|\n",
            "|   7|       7.0|\n",
            "|   7|       7.0|\n",
            "|   2|       2.0|\n",
            "|   2|       2.0|\n",
            "|   7|       7.0|\n",
            "|   2|       2.0|\n",
            "|   7|       7.0|\n",
            "|   2|       3.0|\n",
            "|   5|       5.0|\n",
            "|   7|       7.0|\n",
            "|   2|       2.0|\n",
            "|   2|       3.0|\n",
            "+----+----------+\n",
            "only showing top 20 rows\n",
            "\n"
          ]
        }
      ]
    },
    {
      "cell_type": "code",
      "source": [
        "auc = eval.evaluate(results)\n",
        "auc"
      ],
      "metadata": {
        "id": "r9BA443DmL_n",
        "outputId": "cc9d633c-d362-4256-8408-c2e443e354ea",
        "colab": {
          "base_uri": "https://localhost:8080/"
        }
      },
      "execution_count": null,
      "outputs": [
        {
          "output_type": "execute_result",
          "data": {
            "text/plain": [
              "0.9473292424007043"
            ]
          },
          "metadata": {},
          "execution_count": 163
        }
      ]
    },
    {
      "cell_type": "markdown",
      "source": [
        "Random Forest Classifier"
      ],
      "metadata": {
        "id": "tDwX90H9miV2"
      }
    },
    {
      "cell_type": "code",
      "source": [
        "from pyspark.ml.classification import RandomForestClassifier\n"
      ],
      "metadata": {
        "id": "ZEiCn5Q7nAD5"
      },
      "execution_count": null,
      "outputs": []
    },
    {
      "cell_type": "code",
      "source": [
        "rf = RandomForestClassifier(featuresCol='features',labelCol='Type',numTrees=20,maxDepth=10,impurity='entropy')"
      ],
      "metadata": {
        "id": "9noHLqVGnG-E"
      },
      "execution_count": null,
      "outputs": []
    },
    {
      "cell_type": "code",
      "source": [
        "pipeline = Pipeline(stages = [assembler, rf ])"
      ],
      "metadata": {
        "id": "LWtHKmVWneub"
      },
      "execution_count": null,
      "outputs": []
    },
    {
      "cell_type": "code",
      "source": [
        "rf_model = pipeline.fit(train)"
      ],
      "metadata": {
        "id": "DrzZO5VGn2VF"
      },
      "execution_count": null,
      "outputs": []
    },
    {
      "cell_type": "code",
      "source": [
        "results = rf_model.transform(test)\n",
        "results.show(5)"
      ],
      "metadata": {
        "id": "K6HUNUnAn-ZF",
        "outputId": "37bfeb69-d2a2-49e4-84de-ed84097990ff",
        "colab": {
          "base_uri": "https://localhost:8080/"
        }
      },
      "execution_count": null,
      "outputs": [
        {
          "output_type": "stream",
          "name": "stdout",
          "text": [
            "+-------+-----+----+----+-----+----+----+---+----+----+--------------------+--------------------+--------------------+----------+\n",
            "|     RI|   Na|  Mg|  Al|   Si|   K|  Ca| Ba|  Fe|Type|            features|       rawPrediction|         probability|prediction|\n",
            "+-------+-----+----+----+-----+----+----+---+----+----+--------------------+--------------------+--------------------+----------+\n",
            "|1.51316|13.02| 0.0|3.04|70.48|6.21|6.96|0.0| 0.0|   5|[1.51316,13.02,0....|[0.0,0.0,0.0,0.0,...|[0.0,0.0,0.0,0.0,...|       5.0|\n",
            "|1.51514|14.01|2.68| 3.5|69.89|1.68|5.87|2.2| 0.0|   5|[1.51514,14.01,2....|[0.0,0.0,0.0,0.0,...|[0.0,0.0,0.0,0.0,...|       5.0|\n",
            "|1.51569|13.24|3.49|1.47|73.25|0.38|8.03|0.0| 0.0|   2|[1.51569,13.24,3....|[0.0,6.0,14.0,0.0...|[0.0,0.3,0.7,0.0,...|       2.0|\n",
            "|1.51574|14.86|3.67|1.74|71.87|0.16|7.36|0.0|0.12|   2|[1.51574,14.86,3....|[0.0,9.0,9.0,2.0,...|[0.0,0.45,0.45,0....|       1.0|\n",
            "| 1.5159|13.02|3.58|1.51|73.12|0.69|7.96|0.0| 0.0|   2|[1.5159,13.02,3.5...|[0.0,1.0,19.0,0.0...|[0.0,0.05,0.95,0....|       2.0|\n",
            "+-------+-----+----+----+-----+----+----+---+----+----+--------------------+--------------------+--------------------+----------+\n",
            "only showing top 5 rows\n",
            "\n"
          ]
        }
      ]
    },
    {
      "cell_type": "code",
      "source": [
        "auc = eval.evaluate(results)\n",
        "auc"
      ],
      "metadata": {
        "id": "NkHPfgDhoHBn",
        "outputId": "7faca42d-dde2-40b3-b76f-ee80134d0b9e",
        "colab": {
          "base_uri": "https://localhost:8080/"
        }
      },
      "execution_count": null,
      "outputs": [
        {
          "output_type": "execute_result",
          "data": {
            "text/plain": [
              "0.961682869594368"
            ]
          },
          "metadata": {},
          "execution_count": 198
        }
      ]
    },
    {
      "cell_type": "code",
      "source": [
        "results.select('Type','prediction').show()"
      ],
      "metadata": {
        "id": "XhemeS5EoRy1",
        "outputId": "ceee4eb9-2fa7-43bc-8234-bb3f54a3962b",
        "colab": {
          "base_uri": "https://localhost:8080/"
        }
      },
      "execution_count": null,
      "outputs": [
        {
          "output_type": "stream",
          "name": "stdout",
          "text": [
            "+----+----------+\n",
            "|Type|prediction|\n",
            "+----+----------+\n",
            "|   5|       5.0|\n",
            "|   5|       5.0|\n",
            "|   2|       2.0|\n",
            "|   2|       1.0|\n",
            "|   2|       2.0|\n",
            "|   1|       2.0|\n",
            "|   2|       2.0|\n",
            "|   3|       3.0|\n",
            "|   7|       7.0|\n",
            "|   7|       7.0|\n",
            "|   2|       2.0|\n",
            "|   2|       2.0|\n",
            "|   7|       7.0|\n",
            "|   2|       2.0|\n",
            "|   7|       7.0|\n",
            "|   2|       2.0|\n",
            "|   5|       5.0|\n",
            "|   7|       7.0|\n",
            "|   2|       2.0|\n",
            "|   2|       2.0|\n",
            "+----+----------+\n",
            "only showing top 20 rows\n",
            "\n"
          ]
        }
      ]
    },
    {
      "cell_type": "markdown",
      "source": [
        "Naive Bayes Classifier"
      ],
      "metadata": {
        "id": "oOiZuuChoaae"
      }
    },
    {
      "cell_type": "code",
      "source": [
        "from pyspark.ml.classification import NaiveBayes\n"
      ],
      "metadata": {
        "id": "DJzsd3vspWvf"
      },
      "execution_count": null,
      "outputs": []
    },
    {
      "cell_type": "code",
      "source": [
        "nb = NaiveBayes(labelCol=\"Type\", featuresCol=\"features\")\n"
      ],
      "metadata": {
        "id": "LCnWBIR8pZe6"
      },
      "execution_count": null,
      "outputs": []
    },
    {
      "cell_type": "code",
      "source": [
        "pipeline = Pipeline(stages= [assembler,nb])"
      ],
      "metadata": {
        "id": "HpnzChgJppUW"
      },
      "execution_count": null,
      "outputs": []
    },
    {
      "cell_type": "code",
      "source": [
        "nb_model = pipeline.fit(train)"
      ],
      "metadata": {
        "id": "qrlSugXnp3CA"
      },
      "execution_count": null,
      "outputs": []
    },
    {
      "cell_type": "code",
      "source": [
        "results = nb_model.transform(test)\n",
        "results.show(5)"
      ],
      "metadata": {
        "id": "WoeDmDcnp-hD",
        "outputId": "f9a819e4-8ce7-4660-d99b-cc3cb6953866",
        "colab": {
          "base_uri": "https://localhost:8080/"
        }
      },
      "execution_count": null,
      "outputs": [
        {
          "output_type": "stream",
          "name": "stdout",
          "text": [
            "+-------+-----+----+----+-----+----+----+---+----+----+--------------------+--------------------+--------------------+----------+\n",
            "|     RI|   Na|  Mg|  Al|   Si|   K|  Ca| Ba|  Fe|Type|            features|       rawPrediction|         probability|prediction|\n",
            "+-------+-----+----+----+-----+----+----+---+----+----+--------------------+--------------------+--------------------+----------+\n",
            "|1.51316|13.02| 0.0|3.04|70.48|6.21|6.96|0.0| 0.0|   5|[1.51316,13.02,0....|[-121.92487880846...|[7.99373595760919...|       3.0|\n",
            "|1.51514|14.01|2.68| 3.5|69.89|1.68|5.87|2.2| 0.0|   5|[1.51514,14.01,2....|[-126.62332559654...|[8.67272618644165...|       5.0|\n",
            "|1.51569|13.24|3.49|1.47|73.25|0.38|8.03|0.0| 0.0|   2|[1.51569,13.24,3....|[-99.579979388821...|[0.32654271549650...|       0.0|\n",
            "|1.51574|14.86|3.67|1.74|71.87|0.16|7.36|0.0|0.12|   2|[1.51574,14.86,3....|[-102.27014162891...|[0.30890197694621...|       2.0|\n",
            "| 1.5159|13.02|3.58|1.51|73.12|0.69|7.96|0.0| 0.0|   2|[1.5159,13.02,3.5...|[-101.05032992477...|[0.33739517756302...|       0.0|\n",
            "+-------+-----+----+----+-----+----+----+---+----+----+--------------------+--------------------+--------------------+----------+\n",
            "only showing top 5 rows\n",
            "\n"
          ]
        }
      ]
    },
    {
      "cell_type": "code",
      "source": [
        "auc=eval.evaluate(results)\n",
        "auc"
      ],
      "metadata": {
        "id": "rPn9qgrEtML1",
        "outputId": "4f98e578-5f2c-442b-b5a3-2f06407af618",
        "colab": {
          "base_uri": "https://localhost:8080/"
        }
      },
      "execution_count": null,
      "outputs": [
        {
          "output_type": "execute_result",
          "data": {
            "text/plain": [
              "0.058689717925386714"
            ]
          },
          "metadata": {},
          "execution_count": 205
        }
      ]
    },
    {
      "cell_type": "code",
      "source": [],
      "metadata": {
        "id": "uPG4zrXJ3ZNN"
      },
      "execution_count": null,
      "outputs": []
    }
  ]
}